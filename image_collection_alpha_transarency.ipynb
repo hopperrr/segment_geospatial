{
  "cells": [
    {
      "cell_type": "markdown",
      "metadata": {
        "id": "view-in-github",
        "colab_type": "text"
      },
      "source": [
        "<a href=\"https://colab.research.google.com/github/hopperrr/segment_geospatial/blob/main/image_collection_alpha_transarency.ipynb\" target=\"_parent\"><img src=\"https://colab.research.google.com/assets/colab-badge.svg\" alt=\"Open In Colab\"/></a>"
      ]
    },
    {
      "cell_type": "code",
      "source": [
        "#This takes a map in PNG format (with associated \"PGW\" file) and creates multiple segmented images.\n",
        "#Put the PNG and PGW files in the '/content/images/' folder after the cell following this one has been run."
      ],
      "metadata": {
        "id": "nKVV8zSd9Izq"
      },
      "id": "nKVV8zSd9Izq",
      "execution_count": null,
      "outputs": []
    },
    {
      "cell_type": "code",
      "source": [
        "!git clone https://github.com/facebookresearch/segment-anything.git\n",
        "!pip install rasterio\n",
        "!mkdir images"
      ],
      "metadata": {
        "id": "rRQcco-kSgwh",
        "colab": {
          "base_uri": "https://localhost:8080/"
        },
        "outputId": "67d10c3c-7b71-46ab-b653-591946eceacc"
      },
      "id": "rRQcco-kSgwh",
      "execution_count": 1,
      "outputs": [
        {
          "output_type": "stream",
          "name": "stdout",
          "text": [
            "Cloning into 'segment-anything'...\n",
            "remote: Enumerating objects: 279, done.\u001b[K\n",
            "remote: Counting objects: 100% (143/143), done.\u001b[K\n",
            "remote: Compressing objects: 100% (63/63), done.\u001b[K\n",
            "remote: Total 279 (delta 92), reused 83 (delta 80), pack-reused 136\u001b[K\n",
            "Receiving objects: 100% (279/279), 18.38 MiB | 14.76 MiB/s, done.\n",
            "Resolving deltas: 100% (138/138), done.\n",
            "Looking in indexes: https://pypi.org/simple, https://us-python.pkg.dev/colab-wheels/public/simple/\n",
            "Collecting rasterio\n",
            "  Downloading rasterio-1.3.6-cp39-cp39-manylinux_2_17_x86_64.manylinux2014_x86_64.whl (20.1 MB)\n",
            "\u001b[2K     \u001b[90m━━━━━━━━━━━━━━━━━━━━━━━━━━━━━━━━━━━━━━━━\u001b[0m \u001b[32m20.1/20.1 MB\u001b[0m \u001b[31m36.0 MB/s\u001b[0m eta \u001b[36m0:00:00\u001b[0m\n",
            "\u001b[?25hRequirement already satisfied: numpy>=1.18 in /usr/local/lib/python3.9/dist-packages (from rasterio) (1.22.4)\n",
            "Collecting cligj>=0.5\n",
            "  Downloading cligj-0.7.2-py3-none-any.whl (7.1 kB)\n",
            "Collecting snuggs>=1.4.1\n",
            "  Downloading snuggs-1.4.7-py3-none-any.whl (5.4 kB)\n",
            "Requirement already satisfied: attrs in /usr/local/lib/python3.9/dist-packages (from rasterio) (23.1.0)\n",
            "Requirement already satisfied: setuptools in /usr/local/lib/python3.9/dist-packages (from rasterio) (67.6.1)\n",
            "Requirement already satisfied: certifi in /usr/local/lib/python3.9/dist-packages (from rasterio) (2022.12.7)\n",
            "Collecting click-plugins\n",
            "  Downloading click_plugins-1.1.1-py2.py3-none-any.whl (7.5 kB)\n",
            "Requirement already satisfied: click>=4.0 in /usr/local/lib/python3.9/dist-packages (from rasterio) (8.1.3)\n",
            "Collecting affine\n",
            "  Downloading affine-2.4.0-py3-none-any.whl (15 kB)\n",
            "Requirement already satisfied: pyparsing>=2.1.6 in /usr/local/lib/python3.9/dist-packages (from snuggs>=1.4.1->rasterio) (3.0.9)\n",
            "Installing collected packages: snuggs, cligj, click-plugins, affine, rasterio\n",
            "Successfully installed affine-2.4.0 click-plugins-1.1.1 cligj-0.7.2 rasterio-1.3.6 snuggs-1.4.7\n"
          ]
        }
      ]
    },
    {
      "cell_type": "markdown",
      "id": "b7c0041e",
      "metadata": {
        "id": "b7c0041e"
      },
      "source": [
        "# Automatically generating object masks with SAM"
      ]
    },
    {
      "cell_type": "code",
      "execution_count": 2,
      "id": "4fe300fb",
      "metadata": {
        "id": "4fe300fb"
      },
      "outputs": [],
      "source": [
        "using_colab = True"
      ]
    },
    {
      "cell_type": "code",
      "execution_count": null,
      "id": "0685a2f5",
      "metadata": {
        "id": "0685a2f5"
      },
      "outputs": [],
      "source": [
        "if using_colab:\n",
        "    import torch\n",
        "    import torchvision\n",
        "    print(\"PyTorch version:\", torch.__version__)\n",
        "    print(\"Torchvision version:\", torchvision.__version__)\n",
        "    print(\"CUDA is available:\", torch.cuda.is_available())\n",
        "    import sys\n",
        "    !{sys.executable} -m pip install opencv-python matplotlib\n",
        "    !{sys.executable} -m pip install 'git+https://github.com/facebookresearch/segment-anything.git'\n",
        "    \n",
        "    !mkdir images\n",
        "    !wget -P images https://raw.githubusercontent.com/facebookresearch/segment-anything/main/notebooks/images/dog.jpg\n",
        "        \n",
        "    !wget https://dl.fbaipublicfiles.com/segment_anything/sam_vit_h_4b8939.pth"
      ]
    },
    {
      "cell_type": "markdown",
      "id": "fd2bc687",
      "metadata": {
        "id": "fd2bc687"
      },
      "source": [
        "## Set-up"
      ]
    },
    {
      "cell_type": "code",
      "execution_count": 4,
      "id": "ad354922",
      "metadata": {
        "id": "ad354922"
      },
      "outputs": [],
      "source": [
        "import numpy as np\n",
        "import torch\n",
        "import matplotlib.pyplot as plt\n",
        "import cv2\n",
        "import pandas as pd\n",
        "from pathlib import Path\n",
        "imagepath = '/content/images/'\n",
        "imagename = 'subject.png'\n",
        "imagename_no_extension = imagename.rsplit( \".\", 1 )[ 0 ]\n",
        "pgwpath = imagepath + imagename_no_extension + \".pgw\"\n",
        "outputfullpath = '/content/output/' + imagename\n",
        "outputsmall = '/content/output/' + imagename_no_extension + '/smalls'\n",
        "imagefullpath= imagepath + imagename\n",
        "metapath = '/content/output/' + imagename_no_extension\n",
        "image = cv2.imread(imagefullpath)\n",
        "image = cv2.cvtColor(image, cv2.COLOR_BGR2RGB)"
      ]
    },
    {
      "cell_type": "code",
      "source": [
        "!python /content/segment-anything/scripts/amg.py --model-type \"vit_h\" --checkpoint /content/sam_vit_h_4b8939.pth --input {imagefullpath} --output /content/output"
      ],
      "metadata": {
        "id": "KdiQfOnFS6h_",
        "colab": {
          "base_uri": "https://localhost:8080/"
        },
        "outputId": "0f4229df-df19-40ac-bf8d-a84dff261126"
      },
      "id": "KdiQfOnFS6h_",
      "execution_count": 5,
      "outputs": [
        {
          "output_type": "stream",
          "name": "stdout",
          "text": [
            "Loading model...\n",
            "Processing '/content/images/subject.png'...\n",
            "Done!\n"
          ]
        }
      ]
    },
    {
      "cell_type": "code",
      "source": [
        "df = pd.read_csv(metapath +\"/metadata.csv\")\n",
        "pg = pd.read_csv(pgwpath, header=None)\n",
        "image = cv2.imread(imagefullpath)\n",
        "image = cv2.cvtColor(image, cv2.COLOR_BGR2RGB)\n",
        "filecount = len(df)\n",
        "Path(outputsmall).mkdir(parents=True, exist_ok=True) \n",
        "for index, row in df.iterrows():\n",
        "  itemnum = row['id']\n",
        "\n",
        "  masker = cv2.imread(metapath + '/' + str(int(itemnum)) + '.png')\n",
        "  masker_result = cv2.bitwise_and(image, masker)\n",
        "  details = df.loc[df['id'] == itemnum]\n",
        "  x = int(details.iloc[0]['bbox_x0'])\n",
        "  y = int(details.iloc[0]['bbox_y0'])\n",
        "  x1 = int(x + details.iloc[0]['bbox_w'])\n",
        "  y1 = int(y + details.iloc[0]['bbox_h'])\n",
        "  cropped = masker_result[y:y1, x:x1]\n",
        "  alpha = np.sum(cropped, axis=-1) > 0\n",
        "  alpha = np.uint8(alpha * 255)\n",
        "  res = np.dstack((cropped, alpha))\n",
        "  res = cv2.cvtColor(res, cv2.COLOR_BGRA2RGBA)\n",
        "  cv2.imwrite(outputsmall + '/' + str(int(itemnum)) + '.png', res)\n",
        "  pgwExport = open(outputsmall + '/' + str(int(itemnum)) + '.pgw',\"w\")\n",
        "  pgwCornerX = pg.iloc[4].values[0] + (x * pg.iloc[0].values[0])\n",
        "  pgwCornerY = pg.iloc[5].values[0] - (y * pg.iloc[0].values[0])\n",
        "  pgwExport.write(str(pg.iloc[0].values[0]) + \"\\n\")\n",
        "  pgwExport.write(\"0\\n\")\n",
        "  pgwExport.write(\"0\\n\")\n",
        "  pgwExport.write(str(pg.iloc[3].values[0]) + \"\\n\")\n",
        "  pgwExport.write(str(pgwCornerX) + \"\\n\")\n",
        "  pgwExport.write(str(pgwCornerY) + \"\\n\")\n",
        "  pgwExport.close()\n",
        "\n",
        "#plt.figure(figsize=(20,20))\n",
        "#plt.imshow(res)\n",
        "#plt.axis('off')\n",
        "#plt.show()"
      ],
      "metadata": {
        "id": "GlzpnFrSUsmM"
      },
      "id": "GlzpnFrSUsmM",
      "execution_count": 6,
      "outputs": []
    },
    {
      "cell_type": "code",
      "source": [
        "zipname = imagename_no_extension + \".zip\"\n",
        "!zip -r {zipname} {outputsmall}\n"
      ],
      "metadata": {
        "id": "-v0gxOMQXH0F"
      },
      "id": "-v0gxOMQXH0F",
      "execution_count": null,
      "outputs": []
    },
    {
      "cell_type": "code",
      "source": [
        "from google.colab import files\n",
        "files.download(zipname)"
      ],
      "metadata": {
        "id": "4tzW39mjXb6M"
      },
      "id": "4tzW39mjXb6M",
      "execution_count": null,
      "outputs": []
    },
    {
      "cell_type": "code",
      "source": [
        "#Optional - just a reality check to see the dimensions\n",
        "import rasterio\n",
        "with rasterio.open('/content/images/subject.png') as src:\n",
        "    print(src.width, src.height)\n",
        "    print(src.crs)\n",
        "    print(src.transform)\n",
        "    print(src.count)\n",
        "    print(src.indexes)"
      ],
      "metadata": {
        "colab": {
          "base_uri": "https://localhost:8080/"
        },
        "id": "N5QE8GCfRfvC",
        "outputId": "2d658837-ceac-403b-ddef-3ec75dd053ae"
      },
      "id": "N5QE8GCfRfvC",
      "execution_count": null,
      "outputs": [
        {
          "output_type": "stream",
          "name": "stdout",
          "text": [
            "1978 1333\n",
            "None\n",
            "| 0.51, 0.00, 1599057.27|\n",
            "| 0.00,-0.51, 5064708.65|\n",
            "| 0.00, 0.00, 1.00|\n",
            "4\n",
            "(1, 2, 3, 4)\n"
          ]
        }
      ]
    }
  ],
  "metadata": {
    "kernelspec": {
      "display_name": "Python 3 (ipykernel)",
      "language": "python",
      "name": "python3"
    },
    "language_info": {
      "codemirror_mode": {
        "name": "ipython",
        "version": 3
      },
      "file_extension": ".py",
      "mimetype": "text/x-python",
      "name": "python",
      "nbconvert_exporter": "python",
      "pygments_lexer": "ipython3",
      "version": "3.8.0"
    },
    "colab": {
      "provenance": [],
      "include_colab_link": true
    },
    "accelerator": "GPU",
    "gpuClass": "standard"
  },
  "nbformat": 4,
  "nbformat_minor": 5
}